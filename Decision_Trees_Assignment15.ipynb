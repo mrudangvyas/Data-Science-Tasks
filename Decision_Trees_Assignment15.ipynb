{
  "nbformat": 4,
  "nbformat_minor": 0,
  "metadata": {
    "colab": {
      "provenance": [],
      "collapsed_sections": []
    },
    "kernelspec": {
      "name": "python3",
      "display_name": "Python 3"
    },
    "language_info": {
      "name": "python"
    }
  },
  "cells": [
    {
      "cell_type": "code",
      "metadata": {
        "id": "eqp7Q6rWnX20"
      },
      "source": [
        "#Social_Network_Ads.csv"
      ],
      "execution_count": null,
      "outputs": []
    },
    {
      "cell_type": "markdown",
      "metadata": {
        "id": "1jSlqZcZnmrD"
      },
      "source": [
        "**Importing the libraries**"
      ]
    },
    {
      "cell_type": "code",
      "metadata": {
        "id": "ACJTKMfInp-E"
      },
      "source": [
        "import pandas as pd"
      ],
      "execution_count": null,
      "outputs": []
    },
    {
      "cell_type": "markdown",
      "metadata": {
        "id": "fRZkaj-dnxIj"
      },
      "source": [
        "**Importing the dataset**"
      ]
    },
    {
      "cell_type": "code",
      "metadata": {
        "id": "SfTR4mVDnqBV"
      },
      "source": [
        "data=pd.read_csv('/content/Social_Network_Ads.csv')"
      ],
      "execution_count": null,
      "outputs": []
    },
    {
      "cell_type": "markdown",
      "metadata": {
        "id": "9Thl3lvkn9Kr"
      },
      "source": [
        "**Splitting the dataset into the Training set and Test set**"
      ]
    },
    {
      "cell_type": "code",
      "metadata": {
        "id": "sp359H4XnqD3",
        "colab": {
          "base_uri": "https://localhost:8080/",
          "height": 206
        },
        "outputId": "0110779d-a328-43e3-cd30-8f5da04a841a"
      },
      "source": [
        "data.head()"
      ],
      "execution_count": null,
      "outputs": [
        {
          "output_type": "execute_result",
          "data": {
            "text/plain": [
              "    User ID  Gender  Age  EstimatedSalary  Purchased\n",
              "0  15624510    Male   19            19000          0\n",
              "1  15810944    Male   35            20000          0\n",
              "2  15668575  Female   26            43000          0\n",
              "3  15603246  Female   27            57000          0\n",
              "4  15804002    Male   19            76000          0"
            ],
            "text/html": [
              "\n",
              "  <div id=\"df-40b8f767-5022-4311-a78f-ece30d8a9cc8\">\n",
              "    <div class=\"colab-df-container\">\n",
              "      <div>\n",
              "<style scoped>\n",
              "    .dataframe tbody tr th:only-of-type {\n",
              "        vertical-align: middle;\n",
              "    }\n",
              "\n",
              "    .dataframe tbody tr th {\n",
              "        vertical-align: top;\n",
              "    }\n",
              "\n",
              "    .dataframe thead th {\n",
              "        text-align: right;\n",
              "    }\n",
              "</style>\n",
              "<table border=\"1\" class=\"dataframe\">\n",
              "  <thead>\n",
              "    <tr style=\"text-align: right;\">\n",
              "      <th></th>\n",
              "      <th>User ID</th>\n",
              "      <th>Gender</th>\n",
              "      <th>Age</th>\n",
              "      <th>EstimatedSalary</th>\n",
              "      <th>Purchased</th>\n",
              "    </tr>\n",
              "  </thead>\n",
              "  <tbody>\n",
              "    <tr>\n",
              "      <th>0</th>\n",
              "      <td>15624510</td>\n",
              "      <td>Male</td>\n",
              "      <td>19</td>\n",
              "      <td>19000</td>\n",
              "      <td>0</td>\n",
              "    </tr>\n",
              "    <tr>\n",
              "      <th>1</th>\n",
              "      <td>15810944</td>\n",
              "      <td>Male</td>\n",
              "      <td>35</td>\n",
              "      <td>20000</td>\n",
              "      <td>0</td>\n",
              "    </tr>\n",
              "    <tr>\n",
              "      <th>2</th>\n",
              "      <td>15668575</td>\n",
              "      <td>Female</td>\n",
              "      <td>26</td>\n",
              "      <td>43000</td>\n",
              "      <td>0</td>\n",
              "    </tr>\n",
              "    <tr>\n",
              "      <th>3</th>\n",
              "      <td>15603246</td>\n",
              "      <td>Female</td>\n",
              "      <td>27</td>\n",
              "      <td>57000</td>\n",
              "      <td>0</td>\n",
              "    </tr>\n",
              "    <tr>\n",
              "      <th>4</th>\n",
              "      <td>15804002</td>\n",
              "      <td>Male</td>\n",
              "      <td>19</td>\n",
              "      <td>76000</td>\n",
              "      <td>0</td>\n",
              "    </tr>\n",
              "  </tbody>\n",
              "</table>\n",
              "</div>\n",
              "      <button class=\"colab-df-convert\" onclick=\"convertToInteractive('df-40b8f767-5022-4311-a78f-ece30d8a9cc8')\"\n",
              "              title=\"Convert this dataframe to an interactive table.\"\n",
              "              style=\"display:none;\">\n",
              "        \n",
              "  <svg xmlns=\"http://www.w3.org/2000/svg\" height=\"24px\"viewBox=\"0 0 24 24\"\n",
              "       width=\"24px\">\n",
              "    <path d=\"M0 0h24v24H0V0z\" fill=\"none\"/>\n",
              "    <path d=\"M18.56 5.44l.94 2.06.94-2.06 2.06-.94-2.06-.94-.94-2.06-.94 2.06-2.06.94zm-11 1L8.5 8.5l.94-2.06 2.06-.94-2.06-.94L8.5 2.5l-.94 2.06-2.06.94zm10 10l.94 2.06.94-2.06 2.06-.94-2.06-.94-.94-2.06-.94 2.06-2.06.94z\"/><path d=\"M17.41 7.96l-1.37-1.37c-.4-.4-.92-.59-1.43-.59-.52 0-1.04.2-1.43.59L10.3 9.45l-7.72 7.72c-.78.78-.78 2.05 0 2.83L4 21.41c.39.39.9.59 1.41.59.51 0 1.02-.2 1.41-.59l7.78-7.78 2.81-2.81c.8-.78.8-2.07 0-2.86zM5.41 20L4 18.59l7.72-7.72 1.47 1.35L5.41 20z\"/>\n",
              "  </svg>\n",
              "      </button>\n",
              "      \n",
              "  <style>\n",
              "    .colab-df-container {\n",
              "      display:flex;\n",
              "      flex-wrap:wrap;\n",
              "      gap: 12px;\n",
              "    }\n",
              "\n",
              "    .colab-df-convert {\n",
              "      background-color: #E8F0FE;\n",
              "      border: none;\n",
              "      border-radius: 50%;\n",
              "      cursor: pointer;\n",
              "      display: none;\n",
              "      fill: #1967D2;\n",
              "      height: 32px;\n",
              "      padding: 0 0 0 0;\n",
              "      width: 32px;\n",
              "    }\n",
              "\n",
              "    .colab-df-convert:hover {\n",
              "      background-color: #E2EBFA;\n",
              "      box-shadow: 0px 1px 2px rgba(60, 64, 67, 0.3), 0px 1px 3px 1px rgba(60, 64, 67, 0.15);\n",
              "      fill: #174EA6;\n",
              "    }\n",
              "\n",
              "    [theme=dark] .colab-df-convert {\n",
              "      background-color: #3B4455;\n",
              "      fill: #D2E3FC;\n",
              "    }\n",
              "\n",
              "    [theme=dark] .colab-df-convert:hover {\n",
              "      background-color: #434B5C;\n",
              "      box-shadow: 0px 1px 3px 1px rgba(0, 0, 0, 0.15);\n",
              "      filter: drop-shadow(0px 1px 2px rgba(0, 0, 0, 0.3));\n",
              "      fill: #FFFFFF;\n",
              "    }\n",
              "  </style>\n",
              "\n",
              "      <script>\n",
              "        const buttonEl =\n",
              "          document.querySelector('#df-40b8f767-5022-4311-a78f-ece30d8a9cc8 button.colab-df-convert');\n",
              "        buttonEl.style.display =\n",
              "          google.colab.kernel.accessAllowed ? 'block' : 'none';\n",
              "\n",
              "        async function convertToInteractive(key) {\n",
              "          const element = document.querySelector('#df-40b8f767-5022-4311-a78f-ece30d8a9cc8');\n",
              "          const dataTable =\n",
              "            await google.colab.kernel.invokeFunction('convertToInteractive',\n",
              "                                                     [key], {});\n",
              "          if (!dataTable) return;\n",
              "\n",
              "          const docLinkHtml = 'Like what you see? Visit the ' +\n",
              "            '<a target=\"_blank\" href=https://colab.research.google.com/notebooks/data_table.ipynb>data table notebook</a>'\n",
              "            + ' to learn more about interactive tables.';\n",
              "          element.innerHTML = '';\n",
              "          dataTable['output_type'] = 'display_data';\n",
              "          await google.colab.output.renderOutput(dataTable, element);\n",
              "          const docLink = document.createElement('div');\n",
              "          docLink.innerHTML = docLinkHtml;\n",
              "          element.appendChild(docLink);\n",
              "        }\n",
              "      </script>\n",
              "    </div>\n",
              "  </div>\n",
              "  "
            ]
          },
          "metadata": {},
          "execution_count": 107
        }
      ]
    },
    {
      "cell_type": "code",
      "source": [
        "data.isnull().sum()"
      ],
      "metadata": {
        "colab": {
          "base_uri": "https://localhost:8080/"
        },
        "id": "TZcCdsNfm9W3",
        "outputId": "134bd1e5-c9e2-4de0-8890-3234f35e5303"
      },
      "execution_count": null,
      "outputs": [
        {
          "output_type": "execute_result",
          "data": {
            "text/plain": [
              "User ID            0\n",
              "Gender             0\n",
              "Age                0\n",
              "EstimatedSalary    0\n",
              "Purchased          0\n",
              "dtype: int64"
            ]
          },
          "metadata": {},
          "execution_count": 108
        }
      ]
    },
    {
      "cell_type": "code",
      "source": [
        "data.drop_duplicates"
      ],
      "metadata": {
        "colab": {
          "base_uri": "https://localhost:8080/"
        },
        "id": "_vN0zBp0-tQg",
        "outputId": "e2c7fab1-2af7-4be3-d76c-c787bd48c91c"
      },
      "execution_count": null,
      "outputs": [
        {
          "output_type": "execute_result",
          "data": {
            "text/plain": [
              "<bound method DataFrame.drop_duplicates of       User ID  Gender  Age  EstimatedSalary  Purchased\n",
              "0    15624510    Male   19            19000          0\n",
              "1    15810944    Male   35            20000          0\n",
              "2    15668575  Female   26            43000          0\n",
              "3    15603246  Female   27            57000          0\n",
              "4    15804002    Male   19            76000          0\n",
              "..        ...     ...  ...              ...        ...\n",
              "395  15691863  Female   46            41000          1\n",
              "396  15706071    Male   51            23000          1\n",
              "397  15654296  Female   50            20000          1\n",
              "398  15755018    Male   36            33000          0\n",
              "399  15594041  Female   49            36000          1\n",
              "\n",
              "[400 rows x 5 columns]>"
            ]
          },
          "metadata": {},
          "execution_count": 109
        }
      ]
    },
    {
      "cell_type": "code",
      "source": [
        "del data['User ID']"
      ],
      "metadata": {
        "id": "NQ3s7LUE-wTR"
      },
      "execution_count": null,
      "outputs": []
    },
    {
      "cell_type": "code",
      "source": [
        "data.head()"
      ],
      "metadata": {
        "colab": {
          "base_uri": "https://localhost:8080/",
          "height": 206
        },
        "id": "3-AhF3Pe-zf3",
        "outputId": "07894d22-fc6e-4ce6-d484-4c33eb601e2c"
      },
      "execution_count": null,
      "outputs": [
        {
          "output_type": "execute_result",
          "data": {
            "text/plain": [
              "   Gender  Age  EstimatedSalary  Purchased\n",
              "0    Male   19            19000          0\n",
              "1    Male   35            20000          0\n",
              "2  Female   26            43000          0\n",
              "3  Female   27            57000          0\n",
              "4    Male   19            76000          0"
            ],
            "text/html": [
              "\n",
              "  <div id=\"df-d6ec9eab-ae24-4bba-9924-f5ce82e5bed9\">\n",
              "    <div class=\"colab-df-container\">\n",
              "      <div>\n",
              "<style scoped>\n",
              "    .dataframe tbody tr th:only-of-type {\n",
              "        vertical-align: middle;\n",
              "    }\n",
              "\n",
              "    .dataframe tbody tr th {\n",
              "        vertical-align: top;\n",
              "    }\n",
              "\n",
              "    .dataframe thead th {\n",
              "        text-align: right;\n",
              "    }\n",
              "</style>\n",
              "<table border=\"1\" class=\"dataframe\">\n",
              "  <thead>\n",
              "    <tr style=\"text-align: right;\">\n",
              "      <th></th>\n",
              "      <th>Gender</th>\n",
              "      <th>Age</th>\n",
              "      <th>EstimatedSalary</th>\n",
              "      <th>Purchased</th>\n",
              "    </tr>\n",
              "  </thead>\n",
              "  <tbody>\n",
              "    <tr>\n",
              "      <th>0</th>\n",
              "      <td>Male</td>\n",
              "      <td>19</td>\n",
              "      <td>19000</td>\n",
              "      <td>0</td>\n",
              "    </tr>\n",
              "    <tr>\n",
              "      <th>1</th>\n",
              "      <td>Male</td>\n",
              "      <td>35</td>\n",
              "      <td>20000</td>\n",
              "      <td>0</td>\n",
              "    </tr>\n",
              "    <tr>\n",
              "      <th>2</th>\n",
              "      <td>Female</td>\n",
              "      <td>26</td>\n",
              "      <td>43000</td>\n",
              "      <td>0</td>\n",
              "    </tr>\n",
              "    <tr>\n",
              "      <th>3</th>\n",
              "      <td>Female</td>\n",
              "      <td>27</td>\n",
              "      <td>57000</td>\n",
              "      <td>0</td>\n",
              "    </tr>\n",
              "    <tr>\n",
              "      <th>4</th>\n",
              "      <td>Male</td>\n",
              "      <td>19</td>\n",
              "      <td>76000</td>\n",
              "      <td>0</td>\n",
              "    </tr>\n",
              "  </tbody>\n",
              "</table>\n",
              "</div>\n",
              "      <button class=\"colab-df-convert\" onclick=\"convertToInteractive('df-d6ec9eab-ae24-4bba-9924-f5ce82e5bed9')\"\n",
              "              title=\"Convert this dataframe to an interactive table.\"\n",
              "              style=\"display:none;\">\n",
              "        \n",
              "  <svg xmlns=\"http://www.w3.org/2000/svg\" height=\"24px\"viewBox=\"0 0 24 24\"\n",
              "       width=\"24px\">\n",
              "    <path d=\"M0 0h24v24H0V0z\" fill=\"none\"/>\n",
              "    <path d=\"M18.56 5.44l.94 2.06.94-2.06 2.06-.94-2.06-.94-.94-2.06-.94 2.06-2.06.94zm-11 1L8.5 8.5l.94-2.06 2.06-.94-2.06-.94L8.5 2.5l-.94 2.06-2.06.94zm10 10l.94 2.06.94-2.06 2.06-.94-2.06-.94-.94-2.06-.94 2.06-2.06.94z\"/><path d=\"M17.41 7.96l-1.37-1.37c-.4-.4-.92-.59-1.43-.59-.52 0-1.04.2-1.43.59L10.3 9.45l-7.72 7.72c-.78.78-.78 2.05 0 2.83L4 21.41c.39.39.9.59 1.41.59.51 0 1.02-.2 1.41-.59l7.78-7.78 2.81-2.81c.8-.78.8-2.07 0-2.86zM5.41 20L4 18.59l7.72-7.72 1.47 1.35L5.41 20z\"/>\n",
              "  </svg>\n",
              "      </button>\n",
              "      \n",
              "  <style>\n",
              "    .colab-df-container {\n",
              "      display:flex;\n",
              "      flex-wrap:wrap;\n",
              "      gap: 12px;\n",
              "    }\n",
              "\n",
              "    .colab-df-convert {\n",
              "      background-color: #E8F0FE;\n",
              "      border: none;\n",
              "      border-radius: 50%;\n",
              "      cursor: pointer;\n",
              "      display: none;\n",
              "      fill: #1967D2;\n",
              "      height: 32px;\n",
              "      padding: 0 0 0 0;\n",
              "      width: 32px;\n",
              "    }\n",
              "\n",
              "    .colab-df-convert:hover {\n",
              "      background-color: #E2EBFA;\n",
              "      box-shadow: 0px 1px 2px rgba(60, 64, 67, 0.3), 0px 1px 3px 1px rgba(60, 64, 67, 0.15);\n",
              "      fill: #174EA6;\n",
              "    }\n",
              "\n",
              "    [theme=dark] .colab-df-convert {\n",
              "      background-color: #3B4455;\n",
              "      fill: #D2E3FC;\n",
              "    }\n",
              "\n",
              "    [theme=dark] .colab-df-convert:hover {\n",
              "      background-color: #434B5C;\n",
              "      box-shadow: 0px 1px 3px 1px rgba(0, 0, 0, 0.15);\n",
              "      filter: drop-shadow(0px 1px 2px rgba(0, 0, 0, 0.3));\n",
              "      fill: #FFFFFF;\n",
              "    }\n",
              "  </style>\n",
              "\n",
              "      <script>\n",
              "        const buttonEl =\n",
              "          document.querySelector('#df-d6ec9eab-ae24-4bba-9924-f5ce82e5bed9 button.colab-df-convert');\n",
              "        buttonEl.style.display =\n",
              "          google.colab.kernel.accessAllowed ? 'block' : 'none';\n",
              "\n",
              "        async function convertToInteractive(key) {\n",
              "          const element = document.querySelector('#df-d6ec9eab-ae24-4bba-9924-f5ce82e5bed9');\n",
              "          const dataTable =\n",
              "            await google.colab.kernel.invokeFunction('convertToInteractive',\n",
              "                                                     [key], {});\n",
              "          if (!dataTable) return;\n",
              "\n",
              "          const docLinkHtml = 'Like what you see? Visit the ' +\n",
              "            '<a target=\"_blank\" href=https://colab.research.google.com/notebooks/data_table.ipynb>data table notebook</a>'\n",
              "            + ' to learn more about interactive tables.';\n",
              "          element.innerHTML = '';\n",
              "          dataTable['output_type'] = 'display_data';\n",
              "          await google.colab.output.renderOutput(dataTable, element);\n",
              "          const docLink = document.createElement('div');\n",
              "          docLink.innerHTML = docLinkHtml;\n",
              "          element.appendChild(docLink);\n",
              "        }\n",
              "      </script>\n",
              "    </div>\n",
              "  </div>\n",
              "  "
            ]
          },
          "metadata": {},
          "execution_count": 111
        }
      ]
    },
    {
      "cell_type": "code",
      "source": [
        "data.dtypes"
      ],
      "metadata": {
        "colab": {
          "base_uri": "https://localhost:8080/"
        },
        "id": "qeetEwlGA_95",
        "outputId": "4bd7dce3-b953-4863-c93e-6cdca5c3ecfe"
      },
      "execution_count": null,
      "outputs": [
        {
          "output_type": "execute_result",
          "data": {
            "text/plain": [
              "Gender             object\n",
              "Age                 int64\n",
              "EstimatedSalary     int64\n",
              "Purchased           int64\n",
              "dtype: object"
            ]
          },
          "metadata": {},
          "execution_count": 112
        }
      ]
    },
    {
      "cell_type": "code",
      "source": [
        "data.head()"
      ],
      "metadata": {
        "colab": {
          "base_uri": "https://localhost:8080/",
          "height": 206
        },
        "id": "49KwygeSBFCK",
        "outputId": "fcbb4aad-7ff2-4756-a463-beed95adf12d"
      },
      "execution_count": null,
      "outputs": [
        {
          "output_type": "execute_result",
          "data": {
            "text/plain": [
              "   Gender  Age  EstimatedSalary  Purchased\n",
              "0    Male   19            19000          0\n",
              "1    Male   35            20000          0\n",
              "2  Female   26            43000          0\n",
              "3  Female   27            57000          0\n",
              "4    Male   19            76000          0"
            ],
            "text/html": [
              "\n",
              "  <div id=\"df-109868fa-6016-4092-928f-3fa35052b502\">\n",
              "    <div class=\"colab-df-container\">\n",
              "      <div>\n",
              "<style scoped>\n",
              "    .dataframe tbody tr th:only-of-type {\n",
              "        vertical-align: middle;\n",
              "    }\n",
              "\n",
              "    .dataframe tbody tr th {\n",
              "        vertical-align: top;\n",
              "    }\n",
              "\n",
              "    .dataframe thead th {\n",
              "        text-align: right;\n",
              "    }\n",
              "</style>\n",
              "<table border=\"1\" class=\"dataframe\">\n",
              "  <thead>\n",
              "    <tr style=\"text-align: right;\">\n",
              "      <th></th>\n",
              "      <th>Gender</th>\n",
              "      <th>Age</th>\n",
              "      <th>EstimatedSalary</th>\n",
              "      <th>Purchased</th>\n",
              "    </tr>\n",
              "  </thead>\n",
              "  <tbody>\n",
              "    <tr>\n",
              "      <th>0</th>\n",
              "      <td>Male</td>\n",
              "      <td>19</td>\n",
              "      <td>19000</td>\n",
              "      <td>0</td>\n",
              "    </tr>\n",
              "    <tr>\n",
              "      <th>1</th>\n",
              "      <td>Male</td>\n",
              "      <td>35</td>\n",
              "      <td>20000</td>\n",
              "      <td>0</td>\n",
              "    </tr>\n",
              "    <tr>\n",
              "      <th>2</th>\n",
              "      <td>Female</td>\n",
              "      <td>26</td>\n",
              "      <td>43000</td>\n",
              "      <td>0</td>\n",
              "    </tr>\n",
              "    <tr>\n",
              "      <th>3</th>\n",
              "      <td>Female</td>\n",
              "      <td>27</td>\n",
              "      <td>57000</td>\n",
              "      <td>0</td>\n",
              "    </tr>\n",
              "    <tr>\n",
              "      <th>4</th>\n",
              "      <td>Male</td>\n",
              "      <td>19</td>\n",
              "      <td>76000</td>\n",
              "      <td>0</td>\n",
              "    </tr>\n",
              "  </tbody>\n",
              "</table>\n",
              "</div>\n",
              "      <button class=\"colab-df-convert\" onclick=\"convertToInteractive('df-109868fa-6016-4092-928f-3fa35052b502')\"\n",
              "              title=\"Convert this dataframe to an interactive table.\"\n",
              "              style=\"display:none;\">\n",
              "        \n",
              "  <svg xmlns=\"http://www.w3.org/2000/svg\" height=\"24px\"viewBox=\"0 0 24 24\"\n",
              "       width=\"24px\">\n",
              "    <path d=\"M0 0h24v24H0V0z\" fill=\"none\"/>\n",
              "    <path d=\"M18.56 5.44l.94 2.06.94-2.06 2.06-.94-2.06-.94-.94-2.06-.94 2.06-2.06.94zm-11 1L8.5 8.5l.94-2.06 2.06-.94-2.06-.94L8.5 2.5l-.94 2.06-2.06.94zm10 10l.94 2.06.94-2.06 2.06-.94-2.06-.94-.94-2.06-.94 2.06-2.06.94z\"/><path d=\"M17.41 7.96l-1.37-1.37c-.4-.4-.92-.59-1.43-.59-.52 0-1.04.2-1.43.59L10.3 9.45l-7.72 7.72c-.78.78-.78 2.05 0 2.83L4 21.41c.39.39.9.59 1.41.59.51 0 1.02-.2 1.41-.59l7.78-7.78 2.81-2.81c.8-.78.8-2.07 0-2.86zM5.41 20L4 18.59l7.72-7.72 1.47 1.35L5.41 20z\"/>\n",
              "  </svg>\n",
              "      </button>\n",
              "      \n",
              "  <style>\n",
              "    .colab-df-container {\n",
              "      display:flex;\n",
              "      flex-wrap:wrap;\n",
              "      gap: 12px;\n",
              "    }\n",
              "\n",
              "    .colab-df-convert {\n",
              "      background-color: #E8F0FE;\n",
              "      border: none;\n",
              "      border-radius: 50%;\n",
              "      cursor: pointer;\n",
              "      display: none;\n",
              "      fill: #1967D2;\n",
              "      height: 32px;\n",
              "      padding: 0 0 0 0;\n",
              "      width: 32px;\n",
              "    }\n",
              "\n",
              "    .colab-df-convert:hover {\n",
              "      background-color: #E2EBFA;\n",
              "      box-shadow: 0px 1px 2px rgba(60, 64, 67, 0.3), 0px 1px 3px 1px rgba(60, 64, 67, 0.15);\n",
              "      fill: #174EA6;\n",
              "    }\n",
              "\n",
              "    [theme=dark] .colab-df-convert {\n",
              "      background-color: #3B4455;\n",
              "      fill: #D2E3FC;\n",
              "    }\n",
              "\n",
              "    [theme=dark] .colab-df-convert:hover {\n",
              "      background-color: #434B5C;\n",
              "      box-shadow: 0px 1px 3px 1px rgba(0, 0, 0, 0.15);\n",
              "      filter: drop-shadow(0px 1px 2px rgba(0, 0, 0, 0.3));\n",
              "      fill: #FFFFFF;\n",
              "    }\n",
              "  </style>\n",
              "\n",
              "      <script>\n",
              "        const buttonEl =\n",
              "          document.querySelector('#df-109868fa-6016-4092-928f-3fa35052b502 button.colab-df-convert');\n",
              "        buttonEl.style.display =\n",
              "          google.colab.kernel.accessAllowed ? 'block' : 'none';\n",
              "\n",
              "        async function convertToInteractive(key) {\n",
              "          const element = document.querySelector('#df-109868fa-6016-4092-928f-3fa35052b502');\n",
              "          const dataTable =\n",
              "            await google.colab.kernel.invokeFunction('convertToInteractive',\n",
              "                                                     [key], {});\n",
              "          if (!dataTable) return;\n",
              "\n",
              "          const docLinkHtml = 'Like what you see? Visit the ' +\n",
              "            '<a target=\"_blank\" href=https://colab.research.google.com/notebooks/data_table.ipynb>data table notebook</a>'\n",
              "            + ' to learn more about interactive tables.';\n",
              "          element.innerHTML = '';\n",
              "          dataTable['output_type'] = 'display_data';\n",
              "          await google.colab.output.renderOutput(dataTable, element);\n",
              "          const docLink = document.createElement('div');\n",
              "          docLink.innerHTML = docLinkHtml;\n",
              "          element.appendChild(docLink);\n",
              "        }\n",
              "      </script>\n",
              "    </div>\n",
              "  </div>\n",
              "  "
            ]
          },
          "metadata": {},
          "execution_count": 113
        }
      ]
    },
    {
      "cell_type": "code",
      "source": [
        "data['Gender']=data['Gender'].map({'Male':0,'Female':1})"
      ],
      "metadata": {
        "id": "EDdtSeaE--9v"
      },
      "execution_count": null,
      "outputs": []
    },
    {
      "cell_type": "code",
      "source": [
        "data.head()"
      ],
      "metadata": {
        "colab": {
          "base_uri": "https://localhost:8080/",
          "height": 206
        },
        "id": "cX2RLP7xBSsj",
        "outputId": "979735b6-f7ca-48e0-99f1-6d868a6fc155"
      },
      "execution_count": null,
      "outputs": [
        {
          "output_type": "execute_result",
          "data": {
            "text/plain": [
              "   Gender  Age  EstimatedSalary  Purchased\n",
              "0       0   19            19000          0\n",
              "1       0   35            20000          0\n",
              "2       1   26            43000          0\n",
              "3       1   27            57000          0\n",
              "4       0   19            76000          0"
            ],
            "text/html": [
              "\n",
              "  <div id=\"df-bd358a99-ae58-413e-9432-cbf802b2e12e\">\n",
              "    <div class=\"colab-df-container\">\n",
              "      <div>\n",
              "<style scoped>\n",
              "    .dataframe tbody tr th:only-of-type {\n",
              "        vertical-align: middle;\n",
              "    }\n",
              "\n",
              "    .dataframe tbody tr th {\n",
              "        vertical-align: top;\n",
              "    }\n",
              "\n",
              "    .dataframe thead th {\n",
              "        text-align: right;\n",
              "    }\n",
              "</style>\n",
              "<table border=\"1\" class=\"dataframe\">\n",
              "  <thead>\n",
              "    <tr style=\"text-align: right;\">\n",
              "      <th></th>\n",
              "      <th>Gender</th>\n",
              "      <th>Age</th>\n",
              "      <th>EstimatedSalary</th>\n",
              "      <th>Purchased</th>\n",
              "    </tr>\n",
              "  </thead>\n",
              "  <tbody>\n",
              "    <tr>\n",
              "      <th>0</th>\n",
              "      <td>0</td>\n",
              "      <td>19</td>\n",
              "      <td>19000</td>\n",
              "      <td>0</td>\n",
              "    </tr>\n",
              "    <tr>\n",
              "      <th>1</th>\n",
              "      <td>0</td>\n",
              "      <td>35</td>\n",
              "      <td>20000</td>\n",
              "      <td>0</td>\n",
              "    </tr>\n",
              "    <tr>\n",
              "      <th>2</th>\n",
              "      <td>1</td>\n",
              "      <td>26</td>\n",
              "      <td>43000</td>\n",
              "      <td>0</td>\n",
              "    </tr>\n",
              "    <tr>\n",
              "      <th>3</th>\n",
              "      <td>1</td>\n",
              "      <td>27</td>\n",
              "      <td>57000</td>\n",
              "      <td>0</td>\n",
              "    </tr>\n",
              "    <tr>\n",
              "      <th>4</th>\n",
              "      <td>0</td>\n",
              "      <td>19</td>\n",
              "      <td>76000</td>\n",
              "      <td>0</td>\n",
              "    </tr>\n",
              "  </tbody>\n",
              "</table>\n",
              "</div>\n",
              "      <button class=\"colab-df-convert\" onclick=\"convertToInteractive('df-bd358a99-ae58-413e-9432-cbf802b2e12e')\"\n",
              "              title=\"Convert this dataframe to an interactive table.\"\n",
              "              style=\"display:none;\">\n",
              "        \n",
              "  <svg xmlns=\"http://www.w3.org/2000/svg\" height=\"24px\"viewBox=\"0 0 24 24\"\n",
              "       width=\"24px\">\n",
              "    <path d=\"M0 0h24v24H0V0z\" fill=\"none\"/>\n",
              "    <path d=\"M18.56 5.44l.94 2.06.94-2.06 2.06-.94-2.06-.94-.94-2.06-.94 2.06-2.06.94zm-11 1L8.5 8.5l.94-2.06 2.06-.94-2.06-.94L8.5 2.5l-.94 2.06-2.06.94zm10 10l.94 2.06.94-2.06 2.06-.94-2.06-.94-.94-2.06-.94 2.06-2.06.94z\"/><path d=\"M17.41 7.96l-1.37-1.37c-.4-.4-.92-.59-1.43-.59-.52 0-1.04.2-1.43.59L10.3 9.45l-7.72 7.72c-.78.78-.78 2.05 0 2.83L4 21.41c.39.39.9.59 1.41.59.51 0 1.02-.2 1.41-.59l7.78-7.78 2.81-2.81c.8-.78.8-2.07 0-2.86zM5.41 20L4 18.59l7.72-7.72 1.47 1.35L5.41 20z\"/>\n",
              "  </svg>\n",
              "      </button>\n",
              "      \n",
              "  <style>\n",
              "    .colab-df-container {\n",
              "      display:flex;\n",
              "      flex-wrap:wrap;\n",
              "      gap: 12px;\n",
              "    }\n",
              "\n",
              "    .colab-df-convert {\n",
              "      background-color: #E8F0FE;\n",
              "      border: none;\n",
              "      border-radius: 50%;\n",
              "      cursor: pointer;\n",
              "      display: none;\n",
              "      fill: #1967D2;\n",
              "      height: 32px;\n",
              "      padding: 0 0 0 0;\n",
              "      width: 32px;\n",
              "    }\n",
              "\n",
              "    .colab-df-convert:hover {\n",
              "      background-color: #E2EBFA;\n",
              "      box-shadow: 0px 1px 2px rgba(60, 64, 67, 0.3), 0px 1px 3px 1px rgba(60, 64, 67, 0.15);\n",
              "      fill: #174EA6;\n",
              "    }\n",
              "\n",
              "    [theme=dark] .colab-df-convert {\n",
              "      background-color: #3B4455;\n",
              "      fill: #D2E3FC;\n",
              "    }\n",
              "\n",
              "    [theme=dark] .colab-df-convert:hover {\n",
              "      background-color: #434B5C;\n",
              "      box-shadow: 0px 1px 3px 1px rgba(0, 0, 0, 0.15);\n",
              "      filter: drop-shadow(0px 1px 2px rgba(0, 0, 0, 0.3));\n",
              "      fill: #FFFFFF;\n",
              "    }\n",
              "  </style>\n",
              "\n",
              "      <script>\n",
              "        const buttonEl =\n",
              "          document.querySelector('#df-bd358a99-ae58-413e-9432-cbf802b2e12e button.colab-df-convert');\n",
              "        buttonEl.style.display =\n",
              "          google.colab.kernel.accessAllowed ? 'block' : 'none';\n",
              "\n",
              "        async function convertToInteractive(key) {\n",
              "          const element = document.querySelector('#df-bd358a99-ae58-413e-9432-cbf802b2e12e');\n",
              "          const dataTable =\n",
              "            await google.colab.kernel.invokeFunction('convertToInteractive',\n",
              "                                                     [key], {});\n",
              "          if (!dataTable) return;\n",
              "\n",
              "          const docLinkHtml = 'Like what you see? Visit the ' +\n",
              "            '<a target=\"_blank\" href=https://colab.research.google.com/notebooks/data_table.ipynb>data table notebook</a>'\n",
              "            + ' to learn more about interactive tables.';\n",
              "          element.innerHTML = '';\n",
              "          dataTable['output_type'] = 'display_data';\n",
              "          await google.colab.output.renderOutput(dataTable, element);\n",
              "          const docLink = document.createElement('div');\n",
              "          docLink.innerHTML = docLinkHtml;\n",
              "          element.appendChild(docLink);\n",
              "        }\n",
              "      </script>\n",
              "    </div>\n",
              "  </div>\n",
              "  "
            ]
          },
          "metadata": {},
          "execution_count": 115
        }
      ]
    },
    {
      "cell_type": "code",
      "source": [
        "from sklearn.model_selection import train_test_split\n",
        "x=data[['Age','Gender','EstimatedSalary']].values\n",
        "y=data['Purchased'].values\n",
        "\n",
        "x_train,x_test,y_train,y_test=train_test_split(x,y,test_size=0.2,random_state=1)"
      ],
      "metadata": {
        "id": "BoWMOMvE_KDS"
      },
      "execution_count": null,
      "outputs": []
    },
    {
      "cell_type": "markdown",
      "metadata": {
        "id": "XNNxUncRoG6K"
      },
      "source": [
        "**Feature Scaling**"
      ]
    },
    {
      "cell_type": "code",
      "metadata": {
        "id": "loYjT47TnqIG"
      },
      "source": [
        "from sklearn.preprocessing import StandardScaler\n",
        "scale=StandardScaler()\n",
        "x_train=scale.fit_transform(x_train)\n",
        "x_test=scale.transform(x_test)"
      ],
      "execution_count": null,
      "outputs": []
    },
    {
      "cell_type": "code",
      "source": [
        "x_train"
      ],
      "metadata": {
        "colab": {
          "base_uri": "https://localhost:8080/"
        },
        "id": "2NaUWNMlA6tz",
        "outputId": "0b4a7386-3c09-481a-ad4e-ded09e4fcf60"
      },
      "execution_count": null,
      "outputs": [
        {
          "output_type": "execute_result",
          "data": {
            "text/plain": [
              "array([[-0.80330081,  1.        , -1.19121795],\n",
              "       [ 0.75697997,  1.        , -1.36859801],\n",
              "       [ 0.85449752, -1.        ,  1.43991958],\n",
              "       [-0.51074816, -1.        , -1.48685138],\n",
              "       [-1.48592365, -1.        ,  0.37563923],\n",
              "       [-1.19337101, -1.        ,  0.55301929],\n",
              "       [ 1.04953262, -1.        , -1.04340124],\n",
              "       [-0.21819552, -1.        , -0.30431766],\n",
              "       [ 0.95201507, -1.        , -1.33903467],\n",
              "       [-1.09585346, -1.        , -1.07296458],\n",
              "       [-0.51074816,  1.        ,  1.97205975],\n",
              "       [ 2.21974321, -1.        , -1.0138379 ],\n",
              "       [ 1.43960282,  1.        , -1.39816136],\n",
              "       [ 0.07435713,  1.        , -0.39300769],\n",
              "       [-1.19337101, -1.        ,  0.64170932],\n",
              "       [ 2.02470811,  1.        , -0.89558452],\n",
              "       [ 1.14705017, -1.        ,  0.58258263],\n",
              "       [-0.02316042,  1.        ,  0.2869492 ],\n",
              "       [-0.21819552,  1.        ,  0.25738586],\n",
              "       [-0.31571307,  1.        , -0.74776781],\n",
              "       [-1.68095875, -1.        , -0.57038775],\n",
              "       [ 0.85449752, -1.        ,  0.58258263],\n",
              "       [-0.60826571,  1.        , -1.0138379 ],\n",
              "       [ 0.95201507,  1.        , -1.13209127],\n",
              "       [-0.21819552, -1.        , -0.54082441],\n",
              "       [ 0.17187468, -1.        ,  0.81908937],\n",
              "       [-0.41323061,  1.        ,  1.32166621],\n",
              "       [ 1.14705017, -1.        ,  0.52345594],\n",
              "       [ 0.75697997, -1.        ,  0.31651254],\n",
              "       [ 0.65946243,  1.        , -0.86602118],\n",
              "       [ 0.36690978, -1.        , -0.27475432],\n",
              "       [ 0.46442733,  1.        , -0.45213438],\n",
              "       [-0.21819552, -1.        ,  0.13913248],\n",
              "       [ 0.36690978,  1.        ,  0.10956914],\n",
              "       [-0.99833591,  1.        ,  0.81908937],\n",
              "       [-0.70578326,  1.        ,  1.41035623],\n",
              "       [ 0.36690978, -1.        , -0.48169772],\n",
              "       [ 0.36690978, -1.        , -0.48169772],\n",
              "       [-1.68095875,  1.        ,  0.40520257],\n",
              "       [ 0.85449752,  1.        , -0.80689449],\n",
              "       [-0.99833591,  1.        , -1.10252793],\n",
              "       [-0.21819552,  1.        ,  0.0800058 ],\n",
              "       [ 1.14705017, -1.        , -1.19121795],\n",
              "       [-0.21819552, -1.        ,  0.67127266],\n",
              "       [-0.02316042, -1.        ,  0.19825917],\n",
              "       [-0.51074816,  1.        ,  1.43991958],\n",
              "       [-0.12067797,  1.        ,  0.19825917],\n",
              "       [-1.68095875, -1.        ,  0.52345594],\n",
              "       [ 0.07435713,  1.        , -0.54082441],\n",
              "       [ 1.14705017,  1.        , -0.95471121],\n",
              "       [ 0.26939223, -1.        , -0.09737426],\n",
              "       [-0.02316042, -1.        ,  0.25738586],\n",
              "       [ 2.21974321,  1.        , -0.65907778],\n",
              "       [ 1.04953262,  1.        ,  2.06074978],\n",
              "       [ 0.26939223, -1.        ,  0.0800058 ],\n",
              "       [-0.12067797,  1.        , -0.15650095],\n",
              "       [-1.09585346, -1.        ,  0.37563923],\n",
              "       [-0.41323061, -1.        , -1.10252793],\n",
              "       [ 0.36690978,  1.        , -0.51126106],\n",
              "       [ 0.85449752,  1.        ,  0.16869583],\n",
              "       [-1.87599385, -1.        ,  0.40520257],\n",
              "       [-0.02316042,  1.        , -1.04340124],\n",
              "       [-0.21819552, -1.        , -0.45213438],\n",
              "       [-0.90081836,  1.        , -0.27475432],\n",
              "       [-0.02316042,  1.        ,  0.0800058 ],\n",
              "       [-1.87599385,  1.        , -0.71820447],\n",
              "       [ 0.07435713, -1.        , -0.21562763],\n",
              "       [-0.21819552,  1.        , -0.09737426],\n",
              "       [-0.60826571, -1.        , -0.06781092],\n",
              "       [ 0.95201507, -1.        , -1.27990798],\n",
              "       [ 0.46442733, -1.        ,  1.05559612],\n",
              "       [-1.7784763 , -1.        , -1.45728804],\n",
              "       [-1.5834412 , -1.        ,  0.10956914],\n",
              "       [-0.90081836, -1.        , -1.07296458],\n",
              "       [ 1.43960282, -1.        ,  2.4155099 ],\n",
              "       [ 1.53712037,  1.        ,  1.05559612],\n",
              "       [-1.19337101, -1.        ,  0.34607588],\n",
              "       [-1.09585346,  1.        ,  0.10956914],\n",
              "       [-1.09585346,  1.        , -1.57554141],\n",
              "       [ 0.26939223,  1.        ,  2.17900315],\n",
              "       [-0.21819552, -1.        , -0.89558452],\n",
              "       [ 1.92719056,  1.        ,  1.58773629],\n",
              "       [ 0.36690978, -1.        ,  0.55301929],\n",
              "       [-1.29088856,  1.        ,  0.61214597],\n",
              "       [-0.02316042, -1.        , -0.48169772],\n",
              "       [-0.21819552, -1.        ,  1.17384949],\n",
              "       [-0.51074816, -1.        ,  0.93734275],\n",
              "       [-0.21819552,  1.        ,  2.32681987],\n",
              "       [-1.7784763 ,  1.        , -1.25034464],\n",
              "       [ 0.85449752,  1.        ,  0.40520257],\n",
              "       [ 0.95201507, -1.        ,  1.08515946],\n",
              "       [ 0.75697997,  1.        , -0.68864112],\n",
              "       [ 0.07435713, -1.        , -0.51126106],\n",
              "       [-0.02316042,  1.        ,  0.73039934],\n",
              "       [-0.80330081, -1.        , -0.74776781],\n",
              "       [ 0.36690978,  1.        , -1.13209127],\n",
              "       [ 0.26939223,  1.        , -0.24519098],\n",
              "       [-0.99833591, -1.        ,  0.58258263],\n",
              "       [-0.99833591, -1.        ,  0.64170932],\n",
              "       [ 0.17187468,  1.        ,  0.0800058 ],\n",
              "       [-1.3884061 ,  1.        , -1.19121795],\n",
              "       [ 1.34208527,  1.        ,  2.29725653],\n",
              "       [-1.3884061 , -1.        , -0.15650095],\n",
              "       [-0.02316042,  1.        ,  0.34607588],\n",
              "       [ 0.26939223, -1.        , -0.62951444],\n",
              "       [ 1.04953262,  1.        , -1.16165461],\n",
              "       [-0.21819552, -1.        , -0.27475432],\n",
              "       [-1.09585346, -1.        , -1.13209127],\n",
              "       [ 0.17187468, -1.        ,  1.1147228 ],\n",
              "       [-0.90081836,  1.        ,  0.46432926],\n",
              "       [ 2.12222566,  1.        ,  0.22782251],\n",
              "       [ 0.26939223, -1.        , -0.33388101],\n",
              "       [-0.21819552,  1.        ,  0.84865272],\n",
              "       [-1.09585346, -1.        ,  0.52345594],\n",
              "       [ 0.36690978,  1.        , -0.15650095],\n",
              "       [-0.80330081,  1.        , -0.62951444],\n",
              "       [-1.09585346,  1.        , -1.51641473],\n",
              "       [ 2.02470811,  1.        , -1.33903467],\n",
              "       [-0.70578326,  1.        , -0.18606429],\n",
              "       [-1.19337101, -1.        , -1.04340124],\n",
              "       [ 2.12222566,  1.        , -1.16165461],\n",
              "       [-0.90081836,  1.        , -0.92514787],\n",
              "       [ 0.17187468, -1.        ,  0.25738586],\n",
              "       [ 0.95201507,  1.        ,  1.14428615],\n",
              "       [ 1.43960282,  1.        ,  2.06074978],\n",
              "       [-0.80330081, -1.        , -0.74776781],\n",
              "       [-0.99833591,  1.        ,  2.03118644],\n",
              "       [-1.29088856,  1.        , -0.39300769],\n",
              "       [ 0.26939223,  1.        ,  0.10956914],\n",
              "       [-1.5834412 ,  1.        , -1.54597807],\n",
              "       [ 1.92719056,  1.        , -1.25034464],\n",
              "       [-0.70578326, -1.        ,  1.97205975],\n",
              "       [ 1.04953262,  1.        ,  1.49904626],\n",
              "       [ 0.26939223, -1.        , -0.33388101],\n",
              "       [-0.21819552, -1.        ,  0.19825917],\n",
              "       [-0.90081836,  1.        , -0.71820447],\n",
              "       [-0.02316042, -1.        ,  0.16869583],\n",
              "       [-0.21819552, -1.        , -1.2207813 ],\n",
              "       [-0.02316042, -1.        ,  0.31651254],\n",
              "       [-0.51074816, -1.        ,  1.52860961],\n",
              "       [-0.80330081, -1.        ,  0.19825917],\n",
              "       [-0.70578326, -1.        , -1.51641473],\n",
              "       [-1.19337101, -1.        ,  0.31651254],\n",
              "       [ 0.26939223, -1.        ,  1.14428615],\n",
              "       [-1.29088856, -1.        , -1.45728804],\n",
              "       [ 0.36690978,  1.        ,  0.10956914],\n",
              "       [ 0.07435713, -1.        , -0.21562763],\n",
              "       [-0.12067797, -1.        ,  2.23812984],\n",
              "       [ 0.46442733, -1.        , -0.1269376 ],\n",
              "       [ 1.04953262, -1.        , -1.04340124],\n",
              "       [ 1.04953262,  1.        , -1.13209127],\n",
              "       [-1.3884061 , -1.        , -1.4277247 ],\n",
              "       [ 1.73215547,  1.        ,  1.82424304],\n",
              "       [-0.80330081, -1.        ,  2.35638321],\n",
              "       [ 0.46442733, -1.        , -0.09737426],\n",
              "       [-0.99833591,  1.        , -0.42257103],\n",
              "       [-0.02316042, -1.        , -0.39300769],\n",
              "       [-1.19337101, -1.        , -1.36859801],\n",
              "       [ 2.12222566, -1.        ,  2.2085665 ],\n",
              "       [ 0.46442733, -1.        , -0.42257103],\n",
              "       [-0.99833591,  1.        , -1.51641473],\n",
              "       [ 0.95201507,  1.        , -0.57038775],\n",
              "       [-0.90081836, -1.        , -0.27475432],\n",
              "       [-0.41323061,  1.        ,  0.02087911],\n",
              "       [-0.60826571,  1.        , -0.00868423],\n",
              "       [-0.21819552,  1.        , -1.33903467],\n",
              "       [-0.21819552, -1.        , -1.36859801],\n",
              "       [ 1.92719056,  1.        , -1.04340124],\n",
              "       [-0.70578326, -1.        ,  1.14428615],\n",
              "       [ 0.85449752, -1.        , -1.33903467],\n",
              "       [ 0.36690978,  1.        , -0.24519098],\n",
              "       [-0.41323061,  1.        , -0.80689449],\n",
              "       [-0.41323061,  1.        , -0.24519098],\n",
              "       [ 0.95201507,  1.        , -0.62951444],\n",
              "       [-0.90081836,  1.        , -0.39300769],\n",
              "       [ 0.75697997, -1.        , -1.07296458],\n",
              "       [-0.21819552, -1.        ,  0.19825917],\n",
              "       [ 2.12222566,  1.        , -0.77733115],\n",
              "       [ 0.95201507,  1.        , -0.54082441],\n",
              "       [ 0.95201507,  1.        , -0.51126106],\n",
              "       [-0.21819552, -1.        ,  0.31651254],\n",
              "       [ 0.17187468, -1.        , -0.77733115],\n",
              "       [ 0.26939223, -1.        ,  0.2869492 ],\n",
              "       [-1.3884061 ,  1.        , -0.59995109],\n",
              "       [ 0.17187468,  1.        ,  0.19825917],\n",
              "       [-0.21819552,  1.        , -0.33388101],\n",
              "       [ 1.73215547, -1.        , -0.86602118],\n",
              "       [-0.60826571,  1.        ,  0.0800058 ],\n",
              "       [-0.90081836, -1.        ,  1.61729964],\n",
              "       [ 0.46442733, -1.        ,  0.34607588],\n",
              "       [ 0.26939223, -1.        , -0.27475432],\n",
              "       [ 1.04953262, -1.        ,  0.16869583],\n",
              "       [-1.5834412 , -1.        ,  0.58258263],\n",
              "       [ 1.53712037, -1.        ,  0.10956914],\n",
              "       [-0.99833591,  1.        , -0.30431766],\n",
              "       [-0.21819552,  1.        , -0.62951444],\n",
              "       [-0.90081836, -1.        ,  0.61214597],\n",
              "       [-1.09585346, -1.        ,  0.34607588],\n",
              "       [-0.51074816,  1.        ,  1.43991958],\n",
              "       [ 0.46442733,  1.        ,  0.19825917],\n",
              "       [-0.41323061,  1.        ,  2.38594656],\n",
              "       [ 0.36690978,  1.        ,  0.34607588],\n",
              "       [-0.60826571, -1.        , -0.30431766],\n",
              "       [ 0.17187468, -1.        ,  1.94249641],\n",
              "       [-0.99833591, -1.        , -1.4277247 ],\n",
              "       [-0.80330081,  1.        ,  0.43476591],\n",
              "       [-1.7784763 , -1.        ,  0.05044245],\n",
              "       [-1.7784763 , -1.        ,  0.4938926 ],\n",
              "       [-0.80330081, -1.        , -0.21562763],\n",
              "       [ 0.17187468,  1.        ,  1.94249641],\n",
              "       [-0.60826571, -1.        ,  0.22782251],\n",
              "       [ 0.36690978, -1.        ,  0.10956914],\n",
              "       [-1.09585346,  1.        ,  0.34607588],\n",
              "       [ 0.26939223, -1.        , -0.21562763],\n",
              "       [-0.21819552,  1.        , -1.27990798],\n",
              "       [ 1.04953262,  1.        ,  0.81908937],\n",
              "       [ 0.46442733, -1.        ,  2.38594656],\n",
              "       [-0.90081836, -1.        ,  0.31651254],\n",
              "       [ 1.34208527,  1.        ,  1.94249641],\n",
              "       [-0.41323061,  1.        , -1.19121795],\n",
              "       [ 0.46442733, -1.        , -0.42257103],\n",
              "       [ 0.75697997, -1.        , -1.36859801],\n",
              "       [-0.02316042,  1.        , -0.33388101],\n",
              "       [-0.31571307, -1.        ,  1.29210286],\n",
              "       [-0.21819552, -1.        , -0.86602118],\n",
              "       [-1.48592365,  1.        , -1.2207813 ],\n",
              "       [-0.21819552,  1.        ,  0.10956914],\n",
              "       [ 0.17187468,  1.        , -0.27475432],\n",
              "       [-1.68095875, -1.        ,  0.16869583],\n",
              "       [ 0.85449752,  1.        , -1.07296458],\n",
              "       [-1.09585346,  1.        , -0.74776781],\n",
              "       [-0.80330081,  1.        ,  0.43476591],\n",
              "       [ 1.73215547,  1.        ,  1.67642632],\n",
              "       [-0.02316042,  1.        ,  2.29725653],\n",
              "       [ 0.75697997,  1.        ,  1.85380638],\n",
              "       [-0.41323061, -1.        , -0.74776781],\n",
              "       [ 0.36690978, -1.        , -0.68864112],\n",
              "       [ 0.46442733,  1.        ,  0.31651254],\n",
              "       [-0.02316042,  1.        ,  2.03118644],\n",
              "       [-1.29088856, -1.        ,  0.46432926],\n",
              "       [-0.51074816, -1.        , -1.48685138],\n",
              "       [ 1.82967301,  1.        ,  1.05559612],\n",
              "       [ 1.14705017,  1.        , -0.86602118],\n",
              "       [-0.90081836,  1.        ,  0.4938926 ],\n",
              "       [ 1.53712037,  1.        ,  2.2085665 ],\n",
              "       [-0.70578326, -1.        ,  0.61214597],\n",
              "       [ 1.92719056, -1.        , -0.24519098],\n",
              "       [ 0.26939223, -1.        ,  0.19825917],\n",
              "       [ 0.36690978, -1.        ,  0.31651254],\n",
              "       [-1.68095875,  1.        ,  0.40520257],\n",
              "       [-1.48592365,  1.        , -0.39300769],\n",
              "       [-0.21819552, -1.        ,  0.58258263],\n",
              "       [ 1.63463792, -1.        ,  0.05044245],\n",
              "       [-0.60826571,  1.        , -1.57554141],\n",
              "       [ 1.24456772,  1.        , -0.95471121],\n",
              "       [ 0.46442733, -1.        , -0.09737426],\n",
              "       [-0.31571307, -1.        , -0.74776781],\n",
              "       [ 0.46442733,  1.        ,  1.17384949],\n",
              "       [ 1.63463792,  1.        , -1.25034464],\n",
              "       [-1.7784763 ,  1.        , -1.39816136],\n",
              "       [-0.12067797,  1.        , -0.54082441],\n",
              "       [-0.02316042, -1.        ,  0.05044245],\n",
              "       [-0.12067797,  1.        ,  1.70598967],\n",
              "       [ 0.95201507, -1.        , -1.4277247 ],\n",
              "       [-0.70578326,  1.        ,  0.31651254],\n",
              "       [ 2.12222566,  1.        ,  0.43476591],\n",
              "       [-0.80330081, -1.        ,  0.34607588],\n",
              "       [ 0.56194488,  1.        ,  1.29210286],\n",
              "       [ 0.07435713,  1.        ,  0.34607588],\n",
              "       [ 2.02470811, -1.        ,  2.23812984],\n",
              "       [-0.12067797, -1.        ,  1.67642632],\n",
              "       [ 1.14705017, -1.        , -1.19121795],\n",
              "       [-1.87599385, -1.        , -0.48169772],\n",
              "       [-0.70578326, -1.        , -1.57554141],\n",
              "       [ 2.12222566,  1.        ,  0.58258263],\n",
              "       [-0.99833591,  1.        , -0.33388101],\n",
              "       [ 0.07435713, -1.        ,  0.0800058 ],\n",
              "       [-0.60826571,  1.        ,  0.61214597],\n",
              "       [ 0.95201507, -1.        , -1.0138379 ],\n",
              "       [-0.60826571, -1.        ,  0.16869583],\n",
              "       [-0.02316042, -1.        ,  0.10956914],\n",
              "       [ 0.26939223, -1.        , -0.33388101],\n",
              "       [ 2.12222566, -1.        ,  1.82424304],\n",
              "       [ 1.14705017, -1.        , -0.09737426],\n",
              "       [ 1.04953262, -1.        ,  0.64170932],\n",
              "       [ 0.85449752,  1.        , -1.36859801],\n",
              "       [ 1.63463792,  1.        ,  1.05559612],\n",
              "       [-0.21819552, -1.        , -1.4277247 ],\n",
              "       [ 1.14705017,  1.        ,  2.14943981],\n",
              "       [ 1.04953262, -1.        , -0.80689449],\n",
              "       [-0.21819552, -1.        , -0.39300769],\n",
              "       [-0.12067797, -1.        , -0.24519098],\n",
              "       [-0.51074816,  1.        ,  2.4155099 ],\n",
              "       [-1.87599385,  1.        , -0.00868423],\n",
              "       [-1.29088856, -1.        , -0.39300769],\n",
              "       [ 0.46442733,  1.        ,  0.64170932],\n",
              "       [ 0.07435713, -1.        , -0.27475432],\n",
              "       [ 2.21974321,  1.        ,  1.17384949],\n",
              "       [-1.48592365,  1.        , -0.15650095],\n",
              "       [-1.29088856,  1.        , -1.07296458],\n",
              "       [ 0.85449752, -1.        , -0.27475432],\n",
              "       [ 1.04953262,  1.        ,  1.94249641],\n",
              "       [ 0.36690978,  1.        ,  0.10956914],\n",
              "       [ 1.24456772,  1.        , -0.71820447],\n",
              "       [ 0.07435713, -1.        ,  0.0800058 ],\n",
              "       [-1.29088856, -1.        , -1.33903467],\n",
              "       [-0.21819552, -1.        , -0.21562763],\n",
              "       [-0.02316042,  1.        ,  0.34607588],\n",
              "       [-1.29088856,  1.        , -1.2207813 ],\n",
              "       [-1.09585346,  1.        ,  0.46432926],\n",
              "       [-0.31571307,  1.        , -1.27990798],\n",
              "       [-0.12067797,  1.        , -0.42257103],\n",
              "       [-1.5834412 ,  1.        , -0.00868423],\n",
              "       [ 0.36690978,  1.        ,  0.0800058 ],\n",
              "       [ 2.21974321, -1.        , -0.77733115],\n",
              "       [ 1.43960282,  1.        ,  0.64170932],\n",
              "       [-1.68095875,  1.        , -1.33903467],\n",
              "       [ 1.34208527, -1.        , -1.33903467],\n",
              "       [ 0.85449752, -1.        ,  0.31651254],\n",
              "       [-0.70578326, -1.        , -0.57038775]])"
            ]
          },
          "metadata": {},
          "execution_count": 118
        }
      ]
    },
    {
      "cell_type": "markdown",
      "metadata": {
        "id": "_VB4b09roPhq"
      },
      "source": [
        "**Fitting Decision Tree Classification to the Training set**"
      ]
    },
    {
      "cell_type": "code",
      "metadata": {
        "id": "0UxhDc2lnqKu",
        "colab": {
          "base_uri": "https://localhost:8080/"
        },
        "outputId": "380566c5-80b9-49f4-adc5-eb2a69e9f38a"
      },
      "source": [
        "from sklearn.tree import DecisionTreeClassifier\n",
        "from sklearn.metrics import accuracy_score, roc_auc_score, roc_curve\n",
        "from sklearn.model_selection import cross_val_score\n",
        "import numpy as np\n",
        "\n",
        "for depth in [1,2,3,4,5,6,7,8,9,10]:\n",
        "  dt=DecisionTreeClassifier(max_depth=depth)\n",
        "  dt.fit(x_train,y_train)\n",
        "  trainaccuracy=accuracy_score(y_train,dt.predict(x_train))\n",
        "  val_score=cross_val_score(dt,x_train,y_train,cv=10)\n",
        "  print(f\"Depth is : {depth}, Training accuracy is: {trainaccuracy}, cross-val score is :{np.mean(val_score)}\")\n"
      ],
      "execution_count": null,
      "outputs": [
        {
          "output_type": "stream",
          "name": "stdout",
          "text": [
            "Depth is : 1, Training accuracy is: 0.84375, cross-val score is :0.840625\n",
            "Depth is : 2, Training accuracy is: 0.93125, cross-val score is :0.91875\n",
            "Depth is : 3, Training accuracy is: 0.93125, cross-val score is :0.9125\n",
            "Depth is : 4, Training accuracy is: 0.95625, cross-val score is :0.909375\n",
            "Depth is : 5, Training accuracy is: 0.965625, cross-val score is :0.9\n",
            "Depth is : 6, Training accuracy is: 0.971875, cross-val score is :0.9\n",
            "Depth is : 7, Training accuracy is: 0.978125, cross-val score is :0.8875\n",
            "Depth is : 8, Training accuracy is: 0.98125, cross-val score is :0.89375\n",
            "Depth is : 9, Training accuracy is: 0.9875, cross-val score is :0.8875\n",
            "Depth is : 10, Training accuracy is: 0.990625, cross-val score is :0.896875\n"
          ]
        }
      ]
    },
    {
      "cell_type": "code",
      "source": [
        "import matplotlib.pyplot as plt\n",
        "train=[]\n",
        "test=[]\n",
        "for depth in [1,2,3,4,5,6,7,8,9,10]:\n",
        "  dt=DecisionTreeClassifier(max_depth=depth)\n",
        "  dt.fit(x_train,y_train)\n",
        "  trestaccuracy=accuracy_score(y_test,dt.predict(x_test))\n",
        "  test.append(trestaccuracy)\n",
        "  val_score=cross_val_score(dt,x_train,y_train,cv=10)\n",
        "  train.append(np.mean(val_score))\n",
        "plt.plot(train,label='Training Result')\n",
        "plt.plot(test,label='Test Result')\n",
        "plt.legend()\n",
        "plt.show()"
      ],
      "metadata": {
        "colab": {
          "base_uri": "https://localhost:8080/",
          "height": 265
        },
        "id": "qcHmkNhVJ8VP",
        "outputId": "eee58326-f143-4e93-81cc-4ef82c3e3c4a"
      },
      "execution_count": null,
      "outputs": [
        {
          "output_type": "display_data",
          "data": {
            "text/plain": [
              "<Figure size 432x288 with 1 Axes>"
            ],
            "image/png": "[encoded data removed]"
          },
          "metadata": {
            "needs_background": "light"
          }
        }
      ]
    },
    {
      "cell_type": "code",
      "source": [],
      "metadata": {
        "id": "w8q0Zx72EaHz"
      },
      "execution_count": null,
      "outputs": []
    },
    {
      "cell_type": "markdown",
      "metadata": {
        "id": "XOl6_ERWoYh2"
      },
      "source": [
        "**Predicting the Test set results**"
      ]
    },
    {
      "cell_type": "code",
      "metadata": {
        "id": "7xFCuAXjnqPN",
        "colab": {
          "base_uri": "https://localhost:8080/"
        },
        "outputId": "05e39748-116d-4892-885d-4d693e0599c8"
      },
      "source": [
        "dt=DecisionTreeClassifier(max_depth=2)\n",
        "dt.fit(x_train,y_train)\n",
        "\n",
        "y_pred=dt.predict(x_test)\n",
        "y_pred\n",
        "\n"
      ],
      "execution_count": null,
      "outputs": [
        {
          "output_type": "execute_result",
          "data": {
            "text/plain": [
              "array([0, 0, 1, 1, 1, 0, 0, 1, 0, 1, 0, 0, 0, 1, 1, 1, 1, 0, 0, 1, 0, 1,\n",
              "       1, 1, 1, 0, 1, 1, 1, 1, 0, 0, 0, 1, 0, 0, 0, 0, 1, 0, 1, 1, 1, 0,\n",
              "       1, 1, 1, 1, 0, 1, 0, 0, 0, 1, 0, 0, 1, 0, 1, 1, 0, 0, 1, 0, 1, 1,\n",
              "       0, 0, 1, 0, 1, 0, 1, 0, 0, 1, 0, 0, 0, 0])"
            ]
          },
          "metadata": {},
          "execution_count": 121
        }
      ]
    },
    {
      "cell_type": "markdown",
      "metadata": {
        "id": "pqaQ_HTZogaZ"
      },
      "source": [
        "**Making the Confusion Matrix**"
      ]
    },
    {
      "cell_type": "code",
      "metadata": {
        "id": "DdqNOMK8nqSs",
        "colab": {
          "base_uri": "https://localhost:8080/"
        },
        "outputId": "1ad70378-3945-49d5-8f7f-87860fcbdffa"
      },
      "source": [
        "from sklearn.metrics import confusion_matrix\n",
        "matrix=confusion_matrix(y_test,y_pred)\n",
        "matrix"
      ],
      "execution_count": null,
      "outputs": [
        {
          "output_type": "execute_result",
          "data": {
            "text/plain": [
              "array([[39,  9],\n",
              "       [ 2, 30]])"
            ]
          },
          "metadata": {},
          "execution_count": 122
        }
      ]
    },
    {
      "cell_type": "markdown",
      "metadata": {
        "id": "Ko5EDqqiopBl"
      },
      "source": [
        "**Visualising the Training set results**"
      ]
    },
    {
      "cell_type": "code",
      "source": [
        "from sklearn.metrics import plot_confusion_matrix\n",
        "plot_confusion_matrix(dt,x_train,y_train)"
      ],
      "metadata": {
        "colab": {
          "base_uri": "https://localhost:8080/",
          "height": 297
        },
        "id": "TYgg3fCcJ__Y",
        "outputId": "dbfe5ace-33ef-4f35-83a1-c9db81ea64a5"
      },
      "execution_count": null,
      "outputs": [
        {
          "output_type": "execute_result",
          "data": {
            "text/plain": [
              "<sklearn.metrics._plot.confusion_matrix.ConfusionMatrixDisplay at 0x7f4e201b9f10>"
            ]
          },
          "metadata": {},
          "execution_count": 127
        },
        {
          "output_type": "display_data",
          "data": {
            "text/plain": [
              "<Figure size 432x288 with 2 Axes>"
            ],
            "image/png": "[encoded data removed]"
          },
          "metadata": {
            "needs_background": "light"
          }
        }
      ]
    },
    {
      "cell_type": "markdown",
      "metadata": {
        "id": "ExFSX84Hou9C"
      },
      "source": [
        "**Visualising the Test set results**"
      ]
    },
    {
      "cell_type": "code",
      "metadata": {
        "id": "Cexs-z2Lo4p0",
        "colab": {
          "base_uri": "https://localhost:8080/",
          "height": 354
        },
        "outputId": "50e08df2-2a3b-463c-b33e-15ba923af5b0"
      },
      "source": [
        "plot_confusion_matrix(dt,x_test,y_test)"
      ],
      "execution_count": null,
      "outputs": [
        {
          "output_type": "stream",
          "name": "stderr",
          "text": [
            "/usr/local/lib/python3.7/dist-packages/sklearn/utils/deprecation.py:87: FutureWarning: Function plot_confusion_matrix is deprecated; Function `plot_confusion_matrix` is deprecated in 1.0 and will be removed in 1.2. Use one of the class methods: ConfusionMatrixDisplay.from_predictions or ConfusionMatrixDisplay.from_estimator.\n",
            "  warnings.warn(msg, category=FutureWarning)\n"
          ]
        },
        {
          "output_type": "execute_result",
          "data": {
            "text/plain": [
              "<sklearn.metrics._plot.confusion_matrix.ConfusionMatrixDisplay at 0x7f4e20139cd0>"
            ]
          },
          "metadata": {},
          "execution_count": 130
        },
        {
          "output_type": "display_data",
          "data": {
            "text/plain": [
              "<Figure size 432x288 with 2 Axes>"
            ],
            "image/png": "[encoded data removed]"
          },
          "metadata": {
            "needs_background": "light"
          }
        }
      ]
    }
  ]
}